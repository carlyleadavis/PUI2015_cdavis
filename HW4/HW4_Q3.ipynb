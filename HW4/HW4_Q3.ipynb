{
 "cells": [
  {
   "cell_type": "code",
   "execution_count": 82,
   "metadata": {
    "collapsed": false
   },
   "outputs": [
    {
     "name": "stdout",
     "output_type": "stream",
     "text": [
      "Populating the interactive namespace from numpy and matplotlib\n"
     ]
    },
    {
     "name": "stderr",
     "output_type": "stream",
     "text": [
      "WARNING: pylab import has clobbered these variables: ['summer', 'winter']\n",
      "`%matplotlib` prevents importing * from pylab and numpy\n"
     ]
    }
   ],
   "source": [
    "%pylab inline\n",
    "\n",
    "import pandas as pd\n",
    "import numpy as np\n",
    "from scipy import stats\n",
    "import matplotlib.pyplot as plt\n",
    "import requests\n",
    "import zipfile\n",
    "import io\n",
    "import math\n",
    "#StringIO is gone from Python3, instead import io \n",
    "#use import StringIO if need to run onpython2"
   ]
  },
  {
   "cell_type": "code",
   "execution_count": 63,
   "metadata": {
    "collapsed": true
   },
   "outputs": [],
   "source": [
    "#create dict that holds the URL and file info for the last 12 months of data\n",
    "files = {}\n",
    "files['oct14'] = ['https://s3.amazonaws.com/tripdata/201410-citibike-tripdata.zip',\n",
    "                   '201410-citibike-tripdata.csv']\n",
    "files['nov14'] = ['https://s3.amazonaws.com/tripdata/201411-citibike-tripdata.zip',\n",
    "                   '201411-citibike-tripdata.csv']\n",
    "files['dec14'] = ['https://s3.amazonaws.com/tripdata/201412-citibike-tripdata.zip',\n",
    "                   '201412-citibike-tripdata.csv']\n",
    "files['jan15'] = ['https://s3.amazonaws.com/tripdata/201501-citibike-tripdata.zip',\n",
    "                   '201501-citibike-tripdata.csv']\n",
    "files['feb15'] = ['https://s3.amazonaws.com/tripdata/201502-citibike-tripdata.zip',\n",
    "                   '201502-citibike-tripdata.csv']\n",
    "files['mar15'] = ['https://s3.amazonaws.com/tripdata/201503-citibike-tripdata.zip',\n",
    "                   '201503-citibike-tripdata.csv']\n",
    "files['apr15'] = ['https://s3.amazonaws.com/tripdata/201504-citibike-tripdata.zip',\n",
    "                   '201504-citibike-tripdata.csv']\n",
    "files['may15'] = ['https://s3.amazonaws.com/tripdata/201505-citibike-tripdata.zip',\n",
    "                   '201505-citibike-tripdata.csv']\n",
    "files['jun15'] = ['https://s3.amazonaws.com/tripdata/201506-citibike-tripdata.zip',\n",
    "                   '201506-citibike-tripdata.csv']\n",
    "files['jul15'] = ['https://s3.amazonaws.com/tripdata/201507-citibike-tripdata.zip',\n",
    "                   '201507-citibike-tripdata.csv']\n",
    "files['aug15'] = ['https://s3.amazonaws.com/tripdata/201508-citibike-tripdata.zip',\n",
    "                   '201508-citibike-tripdata.csv']\n",
    "files['sep15'] = ['https://s3.amazonaws.com/tripdata/201509-citibike-tripdata.zip',\n",
    "                   '201509-citibike-tripdata.csv']"
   ]
  },
  {
   "cell_type": "code",
   "execution_count": 67,
   "metadata": {
    "collapsed": false
   },
   "outputs": [],
   "source": [
    "#create empty dict to store my 12 months of pandas dataframes\n",
    "seasons = {}\n",
    "\n",
    "for n in files.keys():\n",
    "    #use file key name as name in new seasons dictionary, which will hold all the pandas DFs\n",
    "    name = \"{0}\".format(n)\n",
    "    r = requests.get(files[n][0])\n",
    "    #if using python 2, use the following instead of the 'z' line:\n",
    "    #z = zipfile.ZipFile(StringIO.StringIO(r.content))\n",
    "    z = zipfile.ZipFile(io.BytesIO(r.content))\n",
    "    #save months into a seperate dictionary with relevant cols\n",
    "    seasons[name]= pd.read_csv(z.open(files[n][1]),\n",
    "                  usecols=['start station id', 'starttime', 'usertype', 'birth year', 'gender'])"
   ]
  },
  {
   "cell_type": "code",
   "execution_count": 72,
   "metadata": {
    "collapsed": false
   },
   "outputs": [],
   "source": [
    "#get list of which dataframes are in each data sample: all, winter, summer\n",
    "all_months = [seasons['sep15'], seasons['oct14'], seasons['nov14'], seasons['dec14']\n",
    "              , seasons['jan15'], seasons['feb15'], seasons['mar15'], seasons['apr15']\n",
    "              , seasons['may15'], seasons['jun15'], seasons['jul15'], seasons['aug15']]\n",
    "fall_winter = [seasons['sep15'], seasons['oct14'], seasons['nov14'], seasons['dec14']\n",
    "               , seasons['jan15'], seasons['feb15']]\n",
    "spring_summer = [seasons['mar15'], seasons['apr15'], seasons['may15'], seasons['jun15']\n",
    "                 , seasons['jul15'], seasons['aug15']]\n",
    "\n",
    "#merge all of the months into a single dataframe\n",
    "df_A = pd.concat(all_months, ignore_index=True)\n",
    "df_W = pd.concat(fall_winter, ignore_index=True)\n",
    "df_S = pd.concat(spring_summer, ignore_index=True)"
   ]
  },
  {
   "cell_type": "code",
   "execution_count": 73,
   "metadata": {
    "collapsed": false
   },
   "outputs": [],
   "source": [
    "#delete all rows that are not subscribers\n",
    "df_A = df_A[df_A.usertype == 'Subscriber']\n",
    "df_W = df_W[df_W.usertype == 'Subscriber']\n",
    "df_S = df_S[df_S.usertype == 'Subscriber']\n",
    "\n",
    "#calculate age\n",
    "df_A['age'] = 2015-df_A['birth year']\n",
    "df_W['age'] = 2015-df_A['birth year']\n",
    "df_S['age'] = 2015-df_A['birth year']"
   ]
  },
  {
   "cell_type": "code",
   "execution_count": 76,
   "metadata": {
    "collapsed": false
   },
   "outputs": [
    {
     "data": {
      "image/png": "[encoded data removed]",
      "text/plain": [
       "<matplotlib.figure.Figure at 0x113d3c588>"
      ]
     },
     "metadata": {},
     "output_type": "display_data"
    },
    {
     "data": {
      "image/png": "[encoded data removed]",
      "text/plain": [
       "<matplotlib.figure.Figure at 0x113d3c400>"
      ]
     },
     "metadata": {},
     "output_type": "display_data"
    },
    {
     "data": {
      "image/png": "[encoded data removed]",
      "text/plain": [
       "<matplotlib.figure.Figure at 0x136413128>"
      ]
     },
     "metadata": {},
     "output_type": "display_data"
    }
   ],
   "source": [
    "bins = np.arange(10, 99, 10)\n",
    "#all months\n",
    "df_A.age.groupby(pd.cut(df_A.age, bins)).agg([count_nonzero]).plot(kind='bar', title=\"All Months\")\n",
    "A_age_dist = df_A.age.groupby(pd.cut(df_A.age, bins)).agg([count_nonzero])\n",
    "#fall and winter\n",
    "df_W.age.groupby(pd.cut(df_W.age, bins)).agg([count_nonzero]).plot(kind='bar', title=\"Winter\")\n",
    "W_age_dist = df_W.age.groupby(pd.cut(df_W.age, bins)).agg([count_nonzero])\n",
    "#spring and summer\n",
    "df_S.age.groupby(pd.cut(df_S.age, bins)).agg([count_nonzero]).plot(kind='bar', title=\"Summer\")\n",
    "S_age_dist = df_S.age.groupby(pd.cut(df_S.age, bins)).agg([count_nonzero])\n"
   ]
  },
  {
   "cell_type": "code",
   "execution_count": 87,
   "metadata": {
    "collapsed": false
   },
   "outputs": [],
   "source": [
    "#KS test compare to normal\n",
    "\n",
    "ksA=scipy.stats.kstest(A_age_dist, 'norm')\n",
    "ksW=scipy.stats.kstest(W_age_dist, 'norm')\n",
    "ksS=scipy.stats.kstest(S_age_dist, 'norm')\n",
    "\n",
    "#KS test with poisson\n",
    "\n",
    "ksA_2=scipy.stats.kstest(A_age_dist, 'poisson', args=(df_A['age'].mean(),))\n",
    "ksW_2=scipy.stats.kstest(W_age_dist, 'poisson', args=(df_W['age'].mean(),))\n",
    "ksS_2=scipy.stats.kstest(S_age_dist, 'poisson', args=(df_S['age'].mean(),))\n",
    "\n",
    "\n",
    "\n",
    "#AD test compare to normal\n",
    "\n",
    "adA=scipy.stats.anderson(df_A.age[~np.isnan(df_A.age)], 'norm')\n",
    "adW=scipy.stats.anderson(df_W.age[~np.isnan(df_W.age)], 'norm')\n",
    "adS=scipy.stats.anderson(df_S.age[~np.isnan(df_S.age)], 'norm')\n",
    "\n",
    "\n",
    "#AD test compare to Logistic \n",
    "\n",
    "adA_2=scipy.stats.anderson(df_A.age[~np.isnan(df_A.age)], 'logistic')\n",
    "adW_2=scipy.stats.anderson(df_W.age[~np.isnan(df_W.age)], 'logistic')\n",
    "adS_2=scipy.stats.anderson(df_S.age[~np.isnan(df_S.age)], 'logistic')\n"
   ]
  },
  {
   "cell_type": "code",
   "execution_count": 95,
   "metadata": {
    "collapsed": false
   },
   "outputs": [
    {
     "name": "stdout",
     "output_type": "stream",
     "text": [
      "Tests for all months\n",
      "\n",
      "\n",
      "KS - all months, normal fit p-value:\t 0.0\n",
      "KS - all months, poisson fit p-value:\t 0.0\n",
      "\n",
      "AD 100% CI Test Stat. Threshold:\t 1.092\n",
      "AD - all months, normal fit test stat:\t 103444.566011\n",
      "\n",
      "AD 100% CI Test Stat. Threshold:\t 0.906\n",
      "AD - all months, log fit test stat:\t 98786.6225821\n",
      "\n",
      "\n",
      "Tests for Fall / Winter\n",
      "\n",
      "\n",
      "KS - winter, normal fit p-value:\t 0.0\n",
      "KS - winter, poisson fit p-value:\t 0.0\n",
      "\n",
      "AD 100% CI Test Stat. Threshold:\t 1.092\n",
      "AD - winter, normal fit test stat:\t 40350.0506484\n",
      "\n",
      "AD 100% CI Test Stat. Threshold:\t 0.906\n",
      "AD - winter, log fit test stat:\t\t 39189.7161857\n",
      "\n",
      "\n",
      "Tests for Spring / Summer\n",
      "\n",
      "\n",
      "KS - summer, normal fit p-value:\t 0.0\n",
      "KS - summer, poisson fit p-value:\t 0.0\n",
      "\n",
      "AD 100% CI Test Stat. Threshold:\t 1.092\n",
      "AD - summer, normal fit test stat:\t 49638.2737478\n",
      "\n",
      "AD 100% CI Test Stat. Threshold:\t 0.906\n",
      "AD - summer, log fit test stat:\t\t 48380.9423681\n"
     ]
    }
   ],
   "source": [
    "print(\"Tests for all months\\n\\n\")\n",
    "\n",
    "print (\"KS - all months, normal fit p-value:\\t\", ksA[1])\n",
    "print (\"KS - all months, poisson fit p-value:\\t\", ksA_2[1])\n",
    "print (\"\\nAD 100% CI Test Stat. Threshold:\\t\", adA[1][4])\n",
    "print (\"AD - all months, normal fit test stat:\\t\", adA[0])\n",
    "print (\"\\nAD 100% CI Test Stat. Threshold:\\t\", adA_2[1][4])\n",
    "print (\"AD - all months, log fit test stat:\\t\", adA_2[0])\n",
    "\n",
    "print(\"\\n\\nTests for Fall / Winter\\n\\n\")\n",
    "\n",
    "print (\"KS - winter, normal fit p-value:\\t\", ksW[1])\n",
    "print (\"KS - winter, poisson fit p-value:\\t\", ksW_2[1])\n",
    "print (\"\\nAD 100% CI Test Stat. Threshold:\\t\", adW[1][4])\n",
    "print (\"AD - winter, normal fit test stat:\\t\", adW[0])\n",
    "print (\"\\nAD 100% CI Test Stat. Threshold:\\t\", adW_2[1][4])\n",
    "print (\"AD - winter, log fit test stat:\\t\\t\", adW_2[0])\n",
    "\n",
    "print(\"\\n\\nTests for Spring / Summer\\n\\n\")\n",
    "\n",
    "print (\"KS - summer, normal fit p-value:\\t\", ksS[1])\n",
    "print (\"KS - summer, poisson fit p-value:\\t\", ksS_2[1])\n",
    "print (\"\\nAD 100% CI Test Stat. Threshold:\\t\", adS[1][4])\n",
    "print (\"AD - summer, normal fit test stat:\\t\", adS[0])\n",
    "print (\"\\nAD 100% CI Test Stat. Threshold:\\t\", adS_2[1][4])\n",
    "print (\"AD - summer, log fit test stat:\\t\\t\", adS_2[0])\n"
   ]
  },
  {
   "cell_type": "markdown",
   "metadata": {},
   "source": [
    "**Under the KS test, my data does not resemble the normal nor does it resemble the poisson distributions with my sample mean as the lamda value for any of my samples (all months, Fall / Winter, Spring / Summer). **\n",
    "\n",
    "**Under the AD tests as well, my data does not resemble the normal nor does it resemble the logrithic distribution for any of my samples (the Anderson statistics were thousands of magnitudes larger than the thresholds). **"
   ]
  },
  {
   "cell_type": "markdown",
   "metadata": {},
   "source": [
    "#Divid data by borough + split Manhattan in an Uptown and a Downtown sample (use your discretion to choose the separation line) and see if you notice any differences in how the age distribution can be modeled. "
   ]
  },
  {
   "cell_type": "code",
   "execution_count": null,
   "metadata": {
    "collapsed": true
   },
   "outputs": [],
   "source": []
  }
 ],
 "metadata": {
  "kernelspec": {
   "display_name": "Python 3",
   "language": "python",
   "name": "python3"
  },
  "language_info": {
   "codemirror_mode": {
    "name": "ipython",
    "version": 3
   },
   "file_extension": ".py",
   "mimetype": "text/x-python",
   "name": "python",
   "nbconvert_exporter": "python",
   "pygments_lexer": "ipython3",
   "version": "3.4.3"
  }
 },
 "nbformat": 4,
 "nbformat_minor": 0
}
